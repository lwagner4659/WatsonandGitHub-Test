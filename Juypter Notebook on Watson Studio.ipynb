{
    "cells": [
        {
            "cell_type": "markdown",
            "metadata": {
                "collapsed": true
            },
            "source": "# My Jupyter Notebook on IBM Watson Studio"
        },
        {
            "cell_type": "markdown",
            "metadata": {},
            "source": "**Leanna**\n\nData Scientist"
        },
        {
            "cell_type": "markdown",
            "metadata": {},
            "source": "*I am interested in data science because I love to work with data and use data to tell stories!*"
        },
        {
            "cell_type": "markdown",
            "metadata": {},
            "source": "### In the next cell I will show\n\n+ how to assign values to variables\n+ how to do arithmetic with varables\n+ print the results"
        },
        {
            "cell_type": "code",
            "execution_count": 2,
            "metadata": {},
            "outputs": [
                {
                    "name": "stdout",
                    "output_type": "stream",
                    "text": "the value of Z is--> 303\n"
                }
            ],
            "source": "x=100\ny=3\nz=(x*y)+y\nprint(\"the value of Z is-->\",z)"
        },
        {
            "cell_type": "markdown",
            "metadata": {},
            "source": "# Bulleted List\n+ a\n+ b\n+ c\n\n# Numbered List\n1. x\n1. y\n1. z\n\n<h1 style=\"text-align: center;\">Table center aligned</h1>\n\n|Variables|\n|:-------:|\n|x=100|\n|y=3|\n|z=(x*y)+y=303|"
        }
    ],
    "metadata": {
        "kernelspec": {
            "display_name": "Python 3.10",
            "language": "python",
            "name": "python3"
        },
        "language_info": {
            "codemirror_mode": {
                "name": "ipython",
                "version": 3
            },
            "file_extension": ".py",
            "mimetype": "text/x-python",
            "name": "python",
            "nbconvert_exporter": "python",
            "pygments_lexer": "ipython3",
            "version": "3.10.9"
        }
    },
    "nbformat": 4,
    "nbformat_minor": 1
}